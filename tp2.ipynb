{
 "cells": [
  {
   "cell_type": "code",
   "execution_count": 4,
   "id": "1e5ff073",
   "metadata": {},
   "outputs": [],
   "source": [
    "import numpy as np"
   ]
  },
  {
   "cell_type": "markdown",
   "id": "1f5ea814",
   "metadata": {},
   "source": [
    "On se donne les objets suivants pour l'ensemble du TP."
   ]
  },
  {
   "cell_type": "code",
   "execution_count": 5,
   "id": "5261b947",
   "metadata": {},
   "outputs": [],
   "source": [
    "d = 100\n",
    "a = np.arange(d)\n",
    "b = 50\n",
    "R = np.random.rand(d,d)\n",
    "A = np.diag(a)+0.05*np.dot(np.transpose(R),R)"
   ]
  },
  {
   "cell_type": "markdown",
   "id": "3ead6504",
   "metadata": {},
   "source": [
    "# Optimisation de portefeuille : Algorithme d'Uzawa"
   ]
  },
  {
   "cell_type": "markdown",
   "id": "b68d9031",
   "metadata": {},
   "source": [
    "**Question 1** : Implémenter l'algorithme d'Uzawa décrit dans la dernière question du TD. Trouver un bon pas par tâtonnement. Les itérées respecte-elles les contraintes ? Commenter."
   ]
  },
  {
   "cell_type": "markdown",
   "id": "9df61850",
   "metadata": {},
   "source": [
    "# Optimisation de portefuille : relaxation"
   ]
  },
  {
   "cell_type": "markdown",
   "id": "17b01e66",
   "metadata": {},
   "source": [
    "La fonction suivante implémente la projection orthogonale sur le simplexe."
   ]
  },
  {
   "cell_type": "code",
   "execution_count": null,
   "id": "0684be08",
   "metadata": {},
   "outputs": [],
   "source": [
    "def projection_simplex(y):\n",
    "    n_features = y.shape[0]\n",
    "    z = np.sort(y)[::-1]\n",
    "    cssv = np.cumsum(z) - 1\n",
    "    ind = np.arange(n_features) + 1\n",
    "    cond = u - cssv / ind > 0\n",
    "    rho = ind[cond][-1]\n",
    "    theta = cssv[cond][-1] / float(rho)\n",
    "    w = np.maximum(y - theta, 0)\n",
    "    return w"
   ]
  },
  {
   "cell_type": "markdown",
   "id": "25affad7",
   "metadata": {},
   "source": [
    "On considère le problème relaxé suivant.\n",
    "$$\\min_{x\\in \\Delta_d}\\left\\{ \\frac{1}{2}x^{\\top}\\!Ax+\\frac{1}{\\varepsilon}(a^{\\top}\\!x-b)^2 \\right\\}.$$\n",
    "Dans la suite, on fixera $\\varepsilon=10^{-2}$."
   ]
  },
  {
   "cell_type": "markdown",
   "id": "c45e1794",
   "metadata": {},
   "source": [
    "**Question 2** : Implémenter la descente de gradient projeté pour résoudre le problème ci-dessus. On choisira le pas par tâtonnements. Tracer l'évolution de la valeur de la fonction objectif au fil des itérations. Comparer la solution obtenue avec celle de la question 1."
   ]
  },
  {
   "cell_type": "markdown",
   "id": "a32f6590",
   "metadata": {},
   "source": [
    "# Optimisation de portefuille : pénalisation"
   ]
  },
  {
   "cell_type": "markdown",
   "id": "6ae393c4",
   "metadata": {},
   "source": [
    "**Question 3** : À partir du problème initial (celui du TD), définir un problème approché sans contraintes faisant intervenir des pénalisations (avec un coefficient $\\varepsilon=10^{-2}$). Résoudre ce problème à l'aide des algorithmes implémentés dans le TP1. Comparer la solution obtenue à celles des questions précédentes."
   ]
  }
 ],
 "metadata": {
  "kernelspec": {
   "display_name": "Python 3 (ipykernel)",
   "language": "python",
   "name": "python3"
  },
  "language_info": {
   "codemirror_mode": {
    "name": "ipython",
    "version": 3
   },
   "file_extension": ".py",
   "mimetype": "text/x-python",
   "name": "python",
   "nbconvert_exporter": "python",
   "pygments_lexer": "ipython3",
   "version": "3.9.7"
  },
  "name": "Untitled.ipynb"
 },
 "nbformat": 4,
 "nbformat_minor": 5
}
